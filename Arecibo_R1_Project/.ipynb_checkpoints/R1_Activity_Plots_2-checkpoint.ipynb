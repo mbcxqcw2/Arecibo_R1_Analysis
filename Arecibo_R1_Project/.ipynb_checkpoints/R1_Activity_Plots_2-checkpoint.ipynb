{
 "cells": [
  {
   "cell_type": "markdown",
   "id": "e32167ce",
   "metadata": {},
   "source": [
    "# Notes"
   ]
  },
  {
   "cell_type": "markdown",
   "id": "019daf13",
   "metadata": {},
   "source": [
    "This notebook contains cleaned-up code for R1 activity phase plotting.\n",
    "\n",
    "It combines code from: R1_Activity_Plots.ipynb and R1_Compare_Search_Methods.ipynb\n",
    "\n",
    "It uses data stored in JSON format and created using: R1_Load_Data.ipynb\n",
    "\n"
   ]
  },
  {
   "cell_type": "markdown",
   "id": "8c011e43",
   "metadata": {},
   "source": [
    "# Imports"
   ]
  },
  {
   "cell_type": "code",
   "execution_count": 68,
   "id": "df6e82e4",
   "metadata": {},
   "outputs": [],
   "source": [
    "import json\n",
    "import numpy as np\n",
    "from astropy.timeseries import TimeSeries as ts\n",
    "from matplotlib import pyplot as plt\n",
    "from astropy.time import Time\n",
    "from astropy import units as u\n",
    "from scipy.signal import lombscargle as ls\n",
    "import astropy\n",
    "from astropy.modeling import models, fitting"
   ]
  },
  {
   "cell_type": "markdown",
   "id": "aad6ceb5",
   "metadata": {},
   "source": [
    "# Functions"
   ]
  },
  {
   "cell_type": "code",
   "execution_count": 69,
   "id": "b9968fc0",
   "metadata": {},
   "outputs": [],
   "source": [
    "#Kenzie Nimmo's ChiSq code:\n",
    "\n",
    "def chisq(N,exp):\n",
    "    \"\"\"\n",
    "    N = binned number of bursts\n",
    "    exp = exposure time per bin\n",
    "    \"\"\"\n",
    "    p=float(np.sum(N)/np.sum(exp))\n",
    "\n",
    "    E = np.zeros_like(N)\n",
    "    for binno in range(len(N)):\n",
    "        E[binno] = p*exp[binno]\n",
    "    \n",
    "    chisq_stat=np.sum((N-E)**2/(E))\n",
    "    \n",
    "    return chisq_stat\n",
    "\n",
    "\n",
    "def folding(beginp,endp,bins,burst_times,begin_times,end_times):\n",
    "    \"\"\"\n",
    "    beginp and endp are the beginning and end trial periods to fold in days\n",
    "    bins is an integer number of bins to divide your period into\n",
    "    burst_times is an array of the observation days which contains a burst\n",
    "    begin_times is an array of the observation begin times with AND without bursts\n",
    "    end_times is an array of the observation end times with AND without bursts\n",
    "    \"\"\"\n",
    "    freqs=np.arange(1./float(endp),1./float(beginp),(1./float(bins))/(np.max(burst_times)-np.min(burst_times)))\n",
    "    #print(freqs)\n",
    "    periods = np.sort(1./freqs) #days\n",
    "    #print(periods)\n",
    "    \n",
    "    #fig=plt.figure(figsize=(4,3))\n",
    "    #ax=fig.add_subplot(111)\n",
    "    #ax.plot(periods,marker='o',label='periods')\n",
    "    #ax.plot(freqs,marker='o',label='frequencies')\n",
    "    #ax.legend()\n",
    "    #plt.show()\n",
    "    \n",
    "    t0=begin_times.min()\n",
    "    tend=end_times.max()\n",
    "\n",
    "    chisq_values=[]\n",
    "    ps=[]\n",
    "    #for pind,p in enumerate(tqdm(periods)): #removed tqdm for now\n",
    "    for pind,p in enumerate(periods):\n",
    "        bin_length= p/float(bins) #days\n",
    "        binned=np.zeros(bins)\n",
    "        exposure=np.zeros(bins)\n",
    "        for i in range(int(np.ceil((tend-t0)/bin_length))): #chop up into bins\n",
    "            if i==0:\n",
    "                begin_time = t0 + i*bin_length\n",
    "            else: begin_time = end_time\n",
    "            end_time = begin_time + bin_length\n",
    "            above=np.where(burst_times >= begin_time) \n",
    "            below=np.where(burst_times < end_time )\n",
    "            count=len(np.intersect1d(above,below)) #find the bursts within the begin_time and end_time of the bin\n",
    "            binned[(i)%bins]+=count #adding a count each time a burst falls in a particular bin\n",
    "            # compute the exposure\n",
    "            time_before=np.where(begin_times < end_time)\n",
    "            time_after=np.where(end_times > begin_time)\n",
    "            overlap_with_bin=np.intersect1d(time_before,time_after)\n",
    "            for over in range(len(overlap_with_bin)):\n",
    "                if begin_times[overlap_with_bin[over]] <= begin_time:\n",
    "                    begin_exp = begin_time\n",
    "                else: begin_exp = begin_times[overlap_with_bin[over]]\n",
    "                if end_times[overlap_with_bin[over]] >= end_time:\n",
    "                    end_exp = end_time\n",
    "                else: end_exp = end_times[overlap_with_bin[over]]\n",
    "            exp = ((end_exp-begin_exp)*24.*3600.) \n",
    "            exposure[(i)%bins]+=exp #adding exposure per bin in seconds \n",
    "        #print(chisq(binned,exposure))\n",
    "        chisqp=float(chisq(binned,exposure))/(bins-1)\n",
    "        chisq_values.append(chisqp)\n",
    "        ps.append(p)\n",
    "    return chisq_values, ps\n",
    "\n",
    "def TallyBursts(ObservingTimes,ObservingDurations,BurstMJDs):\n",
    "    \"\"\"\n",
    "    For papers which provide burst data but not observing information, we must find the observing \n",
    "    files where these bursts were stored on dop263.\n",
    "    \n",
    "    The bursts must then be tallied into their respective observations. This function does this.\n",
    "    \n",
    "    INPUTS:\n",
    "    \n",
    "    ObservingTimes     : [array of astropy mjd values] List of observation start times which\n",
    "                         contained bursts. Must be calculated from observing data.\n",
    "    ObservingDurations : [array of astropy seconds values] List of observation durations in u.s.\n",
    "                         Must be calculated from observing data.\n",
    "    BurstMJDs          : [array of floats] List of mjd values of the bursts observed. Must NOT\n",
    "                         be an astropy time quantity.\n",
    "    \n",
    "    \n",
    "    RETURNS:\n",
    "    \n",
    "    TalliedEvents : [array of ints of shape equal to list of observing times]\n",
    "    \"\"\"\n",
    "    \n",
    "    \n",
    "    TalliedEvents = np.zeros_like(ObservingTimes)\n",
    "\n",
    "    #print(TalliedEvents)\n",
    "    for i in range(len(BurstMJDs)): #loop over marcote bursts\n",
    "        for j in range(len(ObservingTimes)): #loop over observation start times\n",
    "            if (Time(BurstMJDs[i],format='mjd') > ObservingTimes[j]) & (Time(BurstMJDs[i],format='mjd') < ObservingTimes[j] + ObservingDurations[j]): #if burst falls into obs\n",
    "                #print(True)\n",
    "                TalliedEvents[j]+=1 #tally burst\n",
    "    if np.sum(TalliedEvents) != len(BurstMJDs):\n",
    "        print('warning! Not all bursts are tallied. Code is wrong.')\n",
    "    else:\n",
    "        print('bursts tallied.')\n",
    "        \n",
    "    return TalliedEvents"
   ]
  },
  {
   "cell_type": "markdown",
   "id": "78bbf44b",
   "metadata": {},
   "source": [
    "# Load data from JSON files"
   ]
  },
  {
   "cell_type": "code",
   "execution_count": 70,
   "id": "cf86ebbb",
   "metadata": {},
   "outputs": [
    {
     "name": "stdout",
     "output_type": "stream",
     "text": [
      "Data Keys: dict_keys(['bursts', 'obs_duration', 'obs_startmjds', 'bursts_per_obs', 'obs_tels', 'obs_freqs', 'references'])\n",
      "\n",
      "Setup keys: dict_keys(['Cruces21a', 'Hardy17a', 'Houben19a', 'ALFA16a', 'Scholtz16a', 'Hewitt22a', 'Scholtz17a', 'Jahns22a', 'Marcote16a', 'MAGIC17a', 'Rajwade20a', 'Oostrum17a', 'CalebMeerKAT20a', 'CalebSardinia20a', 'CalebNancay20a', 'Michilli18a', 'Spitler18a', 'Gaijar18a', 'CalebEffelsberg20a'])\n",
      "\n"
     ]
    }
   ],
   "source": [
    "########################\n",
    "#load L and C-band data#\n",
    "########################\n",
    "\n",
    "jsonfile = 'AnyBand_R1.json' #the file containing the data\n",
    "#jsonfile = 'LBand_R1.json' #the file containing the data\n",
    "\n",
    "\n",
    "with open(jsonfile, 'r') as f: #open file\n",
    "    r1_data = json.load(f) #load all data\n",
    "\n",
    "#print keys (i.e. data) for reference\n",
    "print('Data Keys: {0}\\n'.format(r1_data.keys())) \n",
    "\n",
    "\n",
    "###################################################\n",
    "#extract keys I will use to filter or process data#\n",
    "###################################################\n",
    "\n",
    "burst_dict = r1_data['bursts'] #mjds of bursts\n",
    "tel_dict = r1_data['obs_tels'] #telescopes of observtions\n",
    "freq_dict = r1_data['obs_freqs'] #frequencies of observations\n",
    "dura_dict = r1_data['obs_duration'] #duration of all observations\n",
    "start_dict = r1_data['obs_startmjds'] #strt mjds of all observations\n",
    "bpo_dict = r1_data['bursts_per_obs'] #detected events in each observation\n",
    "\n",
    "#print keys (i.e. particular observing setups) for reference\n",
    "print('Setup keys: {0}\\n'.format(burst_dict.keys())) "
   ]
  },
  {
   "cell_type": "markdown",
   "id": "2174d2f2",
   "metadata": {},
   "source": [
    "# Extract only bursts to be processed"
   ]
  },
  {
   "cell_type": "code",
   "execution_count": 71,
   "id": "b63c2888",
   "metadata": {},
   "outputs": [
    {
     "name": "stdout",
     "output_type": "stream",
     "text": [
      "Telescope: Effelsberg\n",
      "Frequency: 1.36 GHz\n",
      "Filter passed: False\n",
      "Telescope: Effelsberg\n",
      "Frequency: 1.4 GHz\n",
      "Filter passed: False\n",
      "Telescope: Effelsberg\n",
      "Frequency: 1.4 GHz\n",
      "Filter passed: False\n",
      "Telescope: Arecibo\n",
      "Frequency: 1.4 GHz\n",
      "Filter passed: False\n",
      "Telescope: Arecibo\n",
      "Frequency: 1.4 GHz\n",
      "Filter passed: False\n",
      "Telescope: Arecibo\n",
      "Frequency: 1.4 GHz\n",
      "Filter passed: False\n",
      "Telescope: Arecibo\n",
      "Frequency: 1.4 GHz\n",
      "Filter passed: False\n",
      "Telescope: Arecibo\n",
      "Frequency: 1.4 GHz\n",
      "Filter passed: False\n",
      "Telescope: Arecibo\n",
      "Frequency: 1.7 GHz\n",
      "Filter passed: False\n",
      "Telescope: Arecibo\n",
      "Frequency: 1.4 GHz\n",
      "Filter passed: False\n",
      "Telescope: Lovell\n",
      "Frequency: 1.4 GHz\n",
      "Filter passed: False\n",
      "Telescope: WSRT\n",
      "Frequency: 1.4 GHz\n",
      "Filter passed: False\n",
      "Telescope: MeerKAT\n",
      "Frequency: 1.4 GHz\n",
      "Filter passed: False\n",
      "Telescope: Sardinia\n",
      "Frequency: 0.336 GHz\n",
      "Filter passed: False\n",
      "Telescope: Nancay\n",
      "Frequency: 1.486 GHz\n",
      "Filter passed: True\n",
      "[58736.23518, 58736.24062, 58736.24786, 58736.25422]\n",
      "Telescope: Arecibo\n",
      "Frequency: 4.5 GHz\n",
      "Filter passed: False\n",
      "Telescope: Effelsberg\n",
      "Frequency: 4.85 GHz\n",
      "Filter passed: False\n",
      "Telescope: GBT\n",
      "Frequency: 6 GHz\n",
      "Filter passed: False\n",
      "Telescope: Effelsberg\n",
      "Frequency: 5 GHz\n",
      "Filter passed: False\n",
      "bursts to use: [58736.23518, 58736.24062, 58736.24786, 58736.25422]\n"
     ]
    }
   ],
   "source": [
    "##################################################################\n",
    "#construct a data filter (e.g. select only L-band Arecibo bursts)#\n",
    "##################################################################\n",
    "\n",
    "#choose filter inputs\n",
    "minfreq_filter = 1 #[GHz] #inlude bursts detected in bands above this min freq\n",
    "maxfreq_filter = 2 #[GHz] #include bursts detected in bands below this max freq\n",
    "telescope_filter = ['Nancay']#['Effelsberg','Nancay',Sardinia','Arecibo','Lovell','GBT','WSRT','MeerKAT'] #telescopes of choice to include data from\n",
    "\n",
    "\n",
    "#####################################################################################\n",
    "#loop over all burst data and extract only data from setups which comply with filter#\n",
    "#####################################################################################\n",
    "\n",
    "#initialise arrays to hold bursts (and corresponding data) to use\n",
    "bursts_to_use = [] #mjds of bursts\n",
    "bpos_to_use = [] #events per observation\n",
    "duras_to_use = [] #observation durations [s]\n",
    "starts_to_use = [] #observation start mjds\n",
    "#burstfreqs_to_use = [] #observing frequencies for bursts being used\n",
    "\n",
    "#pick out bursts to use from all bursts\n",
    "for k in burst_dict.keys(): #loop over data\n",
    "    \n",
    "    print('Telescope: {0}'.format(tel_dict[k]))\n",
    "    print('Frequency: {0} GHz'.format(freq_dict[k]))\n",
    "    \n",
    "    #construct data filter from filter inputs\n",
    "    data_filter = ((freq_dict[k]>minfreq_filter)&(freq_dict[k]<maxfreq_filter))&(np.isin(tel_dict[k],telescope_filter))\n",
    "    print('Filter passed: {0}'.format(data_filter))\n",
    "    \n",
    "    #select only data which passes filter\n",
    "    if data_filter==True:\n",
    "        \n",
    "        #store selected data to their arrays\n",
    "        print(burst_dict[k])\n",
    "        bursts_to_use += burst_dict[k]  #burst mjds\n",
    "        bpos_to_use += bpo_dict[k] #events per observation\n",
    "        duras_to_use += dura_dict[k] #observation durations [s]\n",
    "        starts_to_use += start_dict[k] #start mjds of observations\n",
    "        #burstfreqs_to_use += freq_dict[k]\n",
    "        #print(freq_dict[k])\n",
    "    \n",
    "print('bursts to use: {0}'.format(bursts_to_use))\n",
    "#print('freqs of these bursts: {0}'.format(burstfreqs_to_use))"
   ]
  },
  {
   "cell_type": "markdown",
   "id": "ad6622b4",
   "metadata": {},
   "source": [
    "# Set period to use for folding"
   ]
  },
  {
   "cell_type": "code",
   "execution_count": 72,
   "id": "609a7ebf",
   "metadata": {},
   "outputs": [],
   "source": [
    "#set Cruces+21 -derived period\n",
    "Cruces_p = 161 #[days]"
   ]
  },
  {
   "cell_type": "markdown",
   "id": "af2116dc",
   "metadata": {},
   "source": [
    "# Begin"
   ]
  },
  {
   "cell_type": "markdown",
   "id": "2ff224d8",
   "metadata": {},
   "source": [
    "## Create astropy phase plots"
   ]
  },
  {
   "cell_type": "markdown",
   "id": "a91fd142",
   "metadata": {},
   "source": [
    "### Simple phase plot"
   ]
  },
  {
   "cell_type": "code",
   "execution_count": 73,
   "id": "41354de9",
   "metadata": {},
   "outputs": [
    {
     "data": {
      "image/png": "[encoded data removed]",
      "text/plain": [
       "<Figure size 576x432 with 1 Axes>"
      ]
     },
     "metadata": {
      "needs_background": "light"
     },
     "output_type": "display_data"
    }
   ],
   "source": [
    "#choose bins\n",
    "bins = np.linspace(0,1,40)\n",
    "\n",
    "#fold with astropy\n",
    "all_ts = ts(time=Time(bursts_to_use,format='mjd')) #convert to astropy timeseries\n",
    "\n",
    "#fold over Cruces+21 period\n",
    "#Note: potentially make epoch_time = the start time of the first observation. \n",
    "#This will allow us to line up events phase plot with observations phase plot.\n",
    "\n",
    "all_ts_folded = all_ts.fold(period=Cruces_p*u.day)\n",
    "\n",
    "#turn into phase\n",
    "all_phase = (all_ts_folded.time.jd-np.min(all_ts_folded.time.jd))/Cruces_p\n",
    "\n",
    "#plot\n",
    "fig = plt.figure(figsize=(8,6))\n",
    "ax1=fig.add_subplot(111)\n",
    "ax1.set_title('Bursts from {0} telescopes\\n({1:.2f}-{2:.2f} GHz) (folded with astropy)'.format(telescope_filter,minfreq_filter,maxfreq_filter),fontsize=20)\n",
    "ax1.set_xlabel('Phase',fontsize=20)\n",
    "ax1.set_ylabel('Burst Count',fontsize=20)\n",
    "ax1.tick_params(axis='x',labelsize=20)\n",
    "ax1.tick_params(axis='y',labelsize=20)\n",
    "\n",
    "ax1.hist(all_phase,bins=bins)\n",
    "plt.tight_layout()\n",
    "plt.show()"
   ]
  },
  {
   "cell_type": "markdown",
   "id": "66cd6c69",
   "metadata": {},
   "source": [
    "### Weighted phase plot"
   ]
  },
  {
   "cell_type": "code",
   "execution_count": 74,
   "id": "60cd91e5",
   "metadata": {
    "scrolled": false
   },
   "outputs": [
    {
     "name": "stderr",
     "output_type": "stream",
     "text": [
      "/tmp/ipykernel_61975/2719452784.py:67: RuntimeWarning: divide by zero encountered in true_divide\n",
      "  ax3.bar(obsphase_bins[:-1] + np.diff(obsphase_bins) / 2, burstphase_cnts/obsphase_cnts, np.diff(bins))\n",
      "/tmp/ipykernel_61975/2719452784.py:67: RuntimeWarning: invalid value encountered in true_divide\n",
      "  ax3.bar(obsphase_bins[:-1] + np.diff(obsphase_bins) / 2, burstphase_cnts/obsphase_cnts, np.diff(bins))\n"
     ]
    },
    {
     "data": {
      "image/png": "[encoded data removed]",
      "text/plain": [
       "<Figure size 864x864 with 3 Axes>"
      ]
     },
     "metadata": {
      "needs_background": "light"
     },
     "output_type": "display_data"
    }
   ],
   "source": [
    "#get the phase data manually\n",
    "\n",
    "#choose bins\n",
    "bins = np.linspace(0,1,40)\n",
    "\n",
    "#initial time of first observation\n",
    "data_t0 = Time(np.min(bursts_to_use),format='mjd')\n",
    "#print(data_t0)\n",
    "\n",
    "#arrival times after first observation \n",
    "data_burst_tarr = (Time(bursts_to_use,format='mjd')-data_t0).value\n",
    "#print(data_burst_tarr)\n",
    "\n",
    "#times of observations after first observation\n",
    "data_obs_tarr = (Time(starts_to_use,format='mjd')-data_t0).value\n",
    "#print(data_obs_tarr)\n",
    "\n",
    "#burst arrival times as a function of phase according to Cruces+21 period\n",
    "burst_phase = (data_burst_tarr/Cruces_p)-(data_burst_tarr//Cruces_p) \n",
    "\n",
    "#observing times as a function of phase according to Cruces+21 period\n",
    "obs_phase = (data_obs_tarr/Cruces_p)-(data_obs_tarr//Cruces_p)\n",
    "\n",
    "#observing lengths corresponding to these times/phases\n",
    "obs_len = (duras_to_use*u.s).to(u.hr).value #convert from seconds to hours\n",
    "\n",
    "\n",
    "#plot\n",
    "fig = plt.figure(figsize=(12,12))\n",
    "ax1=fig.add_subplot(311)\n",
    "ax1.set_title('Bursts from {0} telescopes\\n({1:.2f}-{2:.2f} GHz) (manual fold over period: {3} days)'.format(telescope_filter,minfreq_filter,maxfreq_filter,Cruces_p),fontsize=20)\n",
    "ax1.set_xlabel('Phase',fontsize=20)\n",
    "ax1.set_ylabel('Burst Count',fontsize=20)\n",
    "ax1.tick_params(axis='x',labelsize=20)\n",
    "ax1.tick_params(axis='y',labelsize=20)\n",
    "\n",
    "burstphase=ax1.hist(burst_phase,bins=bins)\n",
    "\n",
    "ax2=fig.add_subplot(312)\n",
    "ax2.set_title('Observation durations (manual fold over period: {0} days)'.format(Cruces_p),fontsize=20)\n",
    "ax2.set_xlabel('Phase',fontsize=20)\n",
    "ax2.set_ylabel('Observing length [hours]',fontsize=20)\n",
    "ax2.tick_params(axis='x',labelsize=20)\n",
    "ax2.tick_params(axis='y',labelsize=20)\n",
    "\n",
    "#sum observing lengths according to bins of observing phase\n",
    "#method from: \n",
    "# https://stackoverflow.com/questions/51392433/sum-one-numpy-array-based-on-bins-of-another)\n",
    "# https://numpy.org/doc/stable/reference/generated/numpy.histogram.html\n",
    "#i.e.: each value in obs_phase contributes its associated length towards the bin count (instead of 1)\n",
    "\n",
    "obsphase = ax2.hist(obs_phase,bins=bins,weights=obs_len)\n",
    "\n",
    "ax3=fig.add_subplot(313)\n",
    "ax3.set_title('Weighted count (manual fold over period: {0} days)'.format(Cruces_p),fontsize=20)\n",
    "ax3.set_xlabel('Phase',fontsize=20)\n",
    "ax3.set_ylabel('Count/hours',fontsize=20)\n",
    "ax3.tick_params(axis='x',labelsize=20)\n",
    "ax3.tick_params(axis='y',labelsize=20)\n",
    "\n",
    "#instructions to get np.histogram to plot like plt.hist here:\n",
    "# https://stackoverflow.com/questions/46656010/plt-hist-vs-np-histogram-unexpected-results\n",
    "\n",
    "burstphase_cnts, burstphase_bins = np.histogram(burst_phase,bins=bins)\n",
    "obsphase_cnts, obsphase_bins = np.histogram(obs_phase,bins=bins,weights=obs_len)\n",
    "\n",
    "ax3.bar(obsphase_bins[:-1] + np.diff(obsphase_bins) / 2, burstphase_cnts/obsphase_cnts, np.diff(bins))\n",
    "\n",
    "plt.tight_layout()\n",
    "plt.show()"
   ]
  },
  {
   "cell_type": "code",
   "execution_count": null,
   "id": "0bddb67f",
   "metadata": {},
   "outputs": [],
   "source": []
  },
  {
   "cell_type": "code",
   "execution_count": null,
   "id": "2bc9828f",
   "metadata": {},
   "outputs": [],
   "source": []
  },
  {
   "cell_type": "code",
   "execution_count": null,
   "id": "a62d6cc1",
   "metadata": {},
   "outputs": [],
   "source": []
  },
  {
   "cell_type": "code",
   "execution_count": null,
   "id": "d8da7c68",
   "metadata": {},
   "outputs": [],
   "source": []
  },
  {
   "cell_type": "code",
   "execution_count": null,
   "id": "238cf191",
   "metadata": {},
   "outputs": [],
   "source": []
  }
 ],
 "metadata": {
  "kernelspec": {
   "display_name": "Python 3 (ipykernel)",
   "language": "python",
   "name": "python3"
  },
  "language_info": {
   "codemirror_mode": {
    "name": "ipython",
    "version": 3
   },
   "file_extension": ".py",
   "mimetype": "text/x-python",
   "name": "python",
   "nbconvert_exporter": "python",
   "pygments_lexer": "ipython3",
   "version": "3.9.7"
  }
 },
 "nbformat": 4,
 "nbformat_minor": 5
}
